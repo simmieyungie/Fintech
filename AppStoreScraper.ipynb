{
 "cells": [
  {
   "cell_type": "code",
   "execution_count": 3,
   "metadata": {
    "colab": {
     "base_uri": "https://localhost:8080/"
    },
    "id": "S3ucCCVMWpoO",
    "outputId": "109c0802-e082-4125-b956-c9a4efcc08d5"
   },
   "outputs": [],
   "source": [
    "#!pip install google-play-scraper\n",
    "#!pip install app_store_scraper\n",
    "import pandas as pd\n",
    "\n",
    "import numpy as np"
   ]
  },
  {
   "cell_type": "markdown",
   "metadata": {
    "id": "_IUijeJ6XMsF"
   },
   "source": [
    "### Apple store scraper"
   ]
  },
  {
   "cell_type": "code",
   "execution_count": 6,
   "metadata": {
    "id": "m5VdBuYcYz0F"
   },
   "outputs": [],
   "source": [
    "#### Function to scrape and write to csv\n",
    "def playstore(app_name):\n",
    "  from google_play_scraper import Sort, reviews_all\n",
    "\n",
    "  us_reviews = reviews_all(\n",
    "    app_name,\n",
    "    sleep_milliseconds=0, # defaults to 0\n",
    "    lang='en', # defaults to 'en'\n",
    "    country='us', # defaults to 'us'\n",
    "    sort=Sort.NEWEST, # defaults to Sort.MOST_RELEVANT\n",
    "    )\n",
    "  \n",
    "  #convert to DF\n",
    "  df = pd.DataFrame(np.array(us_reviews),columns=['review'])\n",
    "\n",
    "\n",
    "  df = df.join(pd.DataFrame(df.pop('review').tolist()))\n",
    "\n",
    "  df[\"brand\"] = app_name\n",
    "\n",
    "  #df.to_csv(\"/content/drive/MyDrive/FinTech Analytics/GooglePlayStore/\" + app_name + \"GoogleReview.csv\", index = False)\n",
    "            \n",
    "  return df\n",
    "\n",
    "#appstore(\"abeg\")\n",
    "\n",
    "df = []\n",
    "\n",
    "for i in [\"com.abegapp\", \"com.flutterwave.flybarter\"]:\n",
    "  result = playstore(i)\n",
    "  df.append(result)\n",
    "\n",
    "data = pd.concat(df, axis = 0)\n",
    "data.to_csv(\"Data/PlayStoreReviews.csv\")"
   ]
  },
  {
   "cell_type": "code",
   "execution_count": 7,
   "metadata": {
    "id": "FAk6jC2hdSz4"
   },
   "outputs": [
    {
     "name": "stderr",
     "output_type": "stream",
     "text": [
      "2021-09-25 20:14:31,423 [INFO] Base - Searching for app id\n",
      "2021-09-25 20:14:37,258 [INFO] Base - Initialised: AppStore('us', 'abeg', 1532676793)\n",
      "2021-09-25 20:14:37,258 [INFO] Base - Ready to fetch reviews from: https://apps.apple.com/us/app/abeg/id1532676793\n",
      "2021-09-25 20:14:39,829 [INFO] Base - [id:1532676793] Fetched 66 reviews (66 fetched in total)\n",
      "2021-09-25 20:14:39,848 [INFO] Base - Searching for app id\n",
      "2021-09-25 20:14:43,110 [INFO] Base - Initialised: AppStore('us', 'flutterwave', 1378344716)\n",
      "2021-09-25 20:14:43,111 [INFO] Base - Ready to fetch reviews from: https://apps.apple.com/us/app/flutterwave/id1378344716\n",
      "2021-09-25 20:14:47,090 [INFO] Base - [id:1378344716] Fetched 106 reviews (106 fetched in total)\n"
     ]
    }
   ],
   "source": [
    "def appstore(app_name):\n",
    "  from app_store_scraper import AppStore\n",
    "\n",
    "  import pandas as pd\n",
    "\n",
    "  import numpy as np\n",
    "\n",
    "  import json\n",
    "\n",
    "  df = AppStore(country=\"us\", app_name=app_name)\n",
    "\n",
    "  df.review(how_many=500)\n",
    "\n",
    "  df = pd.DataFrame(np.array(df.reviews),columns=['review'])\n",
    "\n",
    "  df2 = df.join(pd.DataFrame(df.pop('review').tolist()))\n",
    "  \n",
    "  df2[\"brand\"] = app_name    \n",
    "\n",
    "  df2.to_csv(\"Data/PlayStoreReviews.csv\", index = False)\n",
    "  #add column for brand name\n",
    " \n",
    "\n",
    "  return df2\n",
    "\n",
    "#appstore(\"abeg\")\n",
    "\n",
    "df = []\n",
    "\n",
    "for i in [\"abeg\", \"flutterwave\"]:\n",
    "  result = appstore(i)\n",
    "  df.append(result)\n",
    "\n",
    "data2 = pd.concat(df, axis = 0)\n",
    "data2.to_csv(\"Data/AppStoreReviews.csv\")"
   ]
  },
  {
   "cell_type": "code",
   "execution_count": 32,
   "metadata": {
    "colab": {
     "base_uri": "https://localhost:8080/"
    },
    "id": "V2w1Srda03ax",
    "outputId": "ab183ee3-e6d4-41dd-9701-f9aac52e9e52"
   },
   "outputs": [
    {
     "name": "stderr",
     "output_type": "stream",
     "text": [
      "2021-09-25 16:42:44,807 [INFO] Base - Searching for app id\n",
      "2021-09-25 16:42:45,258 [INFO] Base - Initialised: AppStore('us', 'abeg', 1532676793)\n",
      "2021-09-25 16:42:45,260 [INFO] Base - Ready to fetch reviews from: https://apps.apple.com/us/app/abeg/id1532676793\n",
      "2021-09-25 16:42:45,645 [INFO] Base - [id:1532676793] Fetched 66 reviews (66 fetched in total)\n",
      "2021-09-25 16:42:45,663 [INFO] Base - Searching for app id\n",
      "2021-09-25 16:42:46,108 [INFO] Base - Initialised: AppStore('us', 'abeg', 1532676793)\n",
      "2021-09-25 16:42:46,112 [INFO] Base - Ready to fetch reviews from: https://apps.apple.com/us/app/abeg/id1532676793\n",
      "2021-09-25 16:42:46,201 [INFO] Base - [id:1532676793] Fetched 66 reviews (66 fetched in total)\n",
      "2021-09-25 16:42:46,226 [INFO] Base - Searching for app id\n",
      "2021-09-25 16:42:46,634 [INFO] Base - Initialised: AppStore('us', 'flutterwave', 1378344716)\n",
      "2021-09-25 16:42:46,635 [INFO] Base - Ready to fetch reviews from: https://apps.apple.com/us/app/flutterwave/id1378344716\n",
      "2021-09-25 16:42:46,884 [INFO] Base - [id:1378344716] Fetched 106 reviews (106 fetched in total)\n"
     ]
    },
    {
     "data": {
      "text/plain": [
       "(172, 8)"
      ]
     },
     "execution_count": 32,
     "metadata": {},
     "output_type": "execute_result"
    }
   ],
   "source": []
  },
  {
   "cell_type": "code",
   "execution_count": 30,
   "metadata": {
    "colab": {
     "base_uri": "https://localhost:8080/"
    },
    "id": "M-7dUA_F1Qi0",
    "outputId": "573f7993-71e0-4e31-a770-71a2ffc1d45b"
   },
   "outputs": [
    {
     "data": {
      "text/plain": [
       "(172, 8)"
      ]
     },
     "execution_count": 30,
     "metadata": {},
     "output_type": "execute_result"
    }
   ],
   "source": []
  },
  {
   "cell_type": "markdown",
   "metadata": {
    "id": "BdZ77NIB2--9"
   },
   "source": [
    "### Data Analysis: Apple\n",
    "  - Average Rating\n",
    "  - Rating count of 1 - 5\n",
    "  - Review Trend\n",
    "  - Number of reviews collected\n",
    "  - Number of reviews responded to\n",
    "  - Difference between review time and response time\n",
    "  - Average rating of responded reviews versus not responded to\n",
    "  - Overall Reaction\n",
    "  - Top words used in reviews\n",
    "  - Top positive and top negative words\n",
    "  - Bigram for phrases\n"
   ]
  },
  {
   "cell_type": "code",
   "execution_count": null,
   "metadata": {
    "id": "CdgLDuQ7Hsag"
   },
   "outputs": [],
   "source": []
  }
 ],
 "metadata": {
  "colab": {
   "collapsed_sections": [],
   "name": "AppStoreScraper.ipynb",
   "provenance": []
  },
  "kernelspec": {
   "display_name": "Python 3",
   "language": "python",
   "name": "python3"
  },
  "language_info": {
   "codemirror_mode": {
    "name": "ipython",
    "version": 3
   },
   "file_extension": ".py",
   "mimetype": "text/x-python",
   "name": "python",
   "nbconvert_exporter": "python",
   "pygments_lexer": "ipython3",
   "version": "3.8.8"
  }
 },
 "nbformat": 4,
 "nbformat_minor": 1
}
